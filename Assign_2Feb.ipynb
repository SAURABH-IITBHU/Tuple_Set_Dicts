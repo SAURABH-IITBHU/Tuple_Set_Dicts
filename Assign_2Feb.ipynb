{
 "cells": [
  {
   "cell_type": "markdown",
   "id": "aef32a7d-3125-40e1-bdf7-3b4bb4b67005",
   "metadata": {},
   "source": [
    "## Q1. What are the characterstics of the tuple? Is tuple immutable?"
   ]
  },
  {
   "cell_type": "markdown",
   "id": "556de44a-b050-4bc5-96eb-fd24a3b51a2d",
   "metadata": {},
   "source": [
    "#### Ans. Tuples are created using parentheses ().\n",
    "      Tuples are ordered collection.\n",
    "      They can store any data type.\n",
    "      We can iterate through tuples.\n",
    "      We can performe slicing operation.\n",
    "      We can also use indexing.\n",
    "   Yes, tuples are immutable."
   ]
  },
  {
   "cell_type": "code",
   "execution_count": 2,
   "id": "0f9ad9ec-cc68-4dd1-897b-50ba670c7d0e",
   "metadata": {},
   "outputs": [
    {
     "name": "stdout",
     "output_type": "stream",
     "text": [
      "<class 'tuple'>\n"
     ]
    }
   ],
   "source": [
    "#Example of tuple:-\n",
    "a=(1,2,3,4,'string',4.6,[11,2,3],(5,6,7),{1,3,5})\n",
    "print(type(a))"
   ]
  },
  {
   "cell_type": "markdown",
   "id": "4c4446ba-9db7-4c54-8439-b550c60c5582",
   "metadata": {},
   "source": [
    "## Q2. What are the two tuple methods in python? Give an example of each method. Give a reason why tuples have only two in-built methods as compared to Lists."
   ]
  },
  {
   "cell_type": "markdown",
   "id": "be45d152-fd4a-4500-b0cf-d9d84a3c008a",
   "metadata": {},
   "source": [
    "#### Ans.\n",
    "#### Two tuple methods are count() and index()\n",
    "#### Tuples have only two bulit in methods because they are immutable."
   ]
  },
  {
   "cell_type": "code",
   "execution_count": 3,
   "id": "016d3eca-8209-42f1-b8e4-db42d3124068",
   "metadata": {},
   "outputs": [
    {
     "data": {
      "text/plain": [
       "1"
      ]
     },
     "execution_count": 3,
     "metadata": {},
     "output_type": "execute_result"
    }
   ],
   "source": [
    "t=(1,2,3,4,'string',4.6,[11,2,3],(5,6,7),{1,3,5})\n",
    "\n",
    "t.count(2) # it count how many time 2 present in my tuple 'a'"
   ]
  },
  {
   "cell_type": "code",
   "execution_count": 4,
   "id": "dd16a91c-5892-47d8-8b89-7eb3f249982d",
   "metadata": {},
   "outputs": [
    {
     "data": {
      "text/plain": [
       "0"
      ]
     },
     "execution_count": 4,
     "metadata": {},
     "output_type": "execute_result"
    }
   ],
   "source": [
    "t.index(1) # it gives index of 1 in my tuple 'a'"
   ]
  },
  {
   "cell_type": "markdown",
   "id": "0ea0d3c2-08fc-47ee-a270-5d70c6463107",
   "metadata": {},
   "source": [
    "#### Tuples have only two bulit in methods because they are immutable."
   ]
  },
  {
   "cell_type": "markdown",
   "id": "285339d7-0061-4f71-8cba-15e4b04be31b",
   "metadata": {},
   "source": [
    "## Q3. Which collection datatypes in python do not allow duplicate items? Write a code using a set to remove duplicates from the given list.\n",
    "## List = [1, 1, 1, 2, 1, 3, 1, 4, 2, 1, 2, 2, 2, 3, 2, 4, 3, 1, 3, 2, 3, 3, 3, 4, 4, 1, 4, 2, 4, 3, 4, 4]"
   ]
  },
  {
   "cell_type": "markdown",
   "id": "1e74b929-b2c1-4cfb-a31b-1ce6fb9151f7",
   "metadata": {},
   "source": [
    "#### Ans.\n",
    "#### Set datatype do not allow duplicate items in python."
   ]
  },
  {
   "cell_type": "code",
   "execution_count": 5,
   "id": "7236a914-306e-4452-9d9e-f9d20e6d27f1",
   "metadata": {},
   "outputs": [],
   "source": [
    "#Given list\n",
    "List = [1, 1, 1, 2, 1, 3, 1, 4, 2, 1, 2, 2, 2, 3, 2, 4, 3, 1, 3, 2, 3, 3, 3, 4, 4, 1, 4, 2, 4, 3, 4, 4]\n",
    "List = list(set(List)) #here, first list is converted into set  after that set is converted into list"
   ]
  },
  {
   "cell_type": "code",
   "execution_count": 6,
   "id": "857ebc70-8257-4aaf-89ff-44225779caef",
   "metadata": {},
   "outputs": [
    {
     "name": "stdout",
     "output_type": "stream",
     "text": [
      "[1, 2, 3, 4]\n"
     ]
    }
   ],
   "source": [
    "print(List)"
   ]
  },
  {
   "cell_type": "markdown",
   "id": "83d55ca9-238b-4b2e-ba0e-4aad14b37386",
   "metadata": {},
   "source": [
    "## Q4. Explain the difference between the union() and update() methods for a set. Give an example of each method."
   ]
  },
  {
   "cell_type": "markdown",
   "id": "2f75a26a-943e-4aa6-9358-38377cb0d256",
   "metadata": {},
   "source": [
    "set1={1,2,3,4}\n",
    "set2={5.3,2}"
   ]
  },
  {
   "cell_type": "markdown",
   "id": "fbd36f98-4b8c-4de0-9b4d-8ab29e81e3ab",
   "metadata": {},
   "source": [
    "#### Ans.\n",
    "#### Union() method will give all element of both sets. It will not going to change any of the original sets.\n",
    "\n",
    "#### Update() method will update the existing set."
   ]
  },
  {
   "cell_type": "code",
   "execution_count": 7,
   "id": "710e506a-5796-4dfa-bd9f-658dd8f5450d",
   "metadata": {},
   "outputs": [
    {
     "name": "stdout",
     "output_type": "stream",
     "text": [
      "{1, 2, 3, 4, 5.3}\n"
     ]
    }
   ],
   "source": [
    "#Example:-\n",
    "set1={1,2,3,4}\n",
    "set2={5.3,2}\n",
    "\n",
    "print(set1.union(set2))"
   ]
  },
  {
   "cell_type": "code",
   "execution_count": 8,
   "id": "9501381d-09b5-4cf3-b7e5-0c5f7a88b385",
   "metadata": {},
   "outputs": [
    {
     "name": "stdout",
     "output_type": "stream",
     "text": [
      "None\n",
      "{1, 2, 3, 4, 5.3}\n"
     ]
    }
   ],
   "source": [
    "set3={1,2,3,4}\n",
    "set4={5.3,2}\n",
    "\n",
    "print(set3.update(set4))\n",
    "print(set3)"
   ]
  },
  {
   "cell_type": "markdown",
   "id": "ed86a5db-cb85-4b08-8823-510753d95af7",
   "metadata": {},
   "source": []
  },
  {
   "cell_type": "markdown",
   "id": "e055775a-b7eb-4f79-8529-0c32feac51bf",
   "metadata": {},
   "source": [
    "## Q5. What is a dictionary? Give an example. Also, state whether a dictionary is ordered or unordered."
   ]
  },
  {
   "cell_type": "markdown",
   "id": "32cbc4e9-3e97-499a-be68-c2db8c95edb2",
   "metadata": {},
   "source": [
    "#### Ans. \n",
    "#### Dictionary is a collection of key and value pairs.\n",
    "#### Dictionaries are unordered and do not support indexing and slicing."
   ]
  },
  {
   "cell_type": "code",
   "execution_count": 9,
   "id": "a5c07623-4755-44ad-94ee-c69838dfd84e",
   "metadata": {},
   "outputs": [
    {
     "name": "stdout",
     "output_type": "stream",
     "text": [
      "<class 'dict'>\n"
     ]
    }
   ],
   "source": [
    "#EXAMPLE:-\n",
    "D={\"Name\" : \"Kumar\", \"Country\" : \"India\"}\n",
    "print(type(D))"
   ]
  },
  {
   "cell_type": "code",
   "execution_count": null,
   "id": "0f8087c6-ee83-4336-b3c6-92b3ab3179af",
   "metadata": {},
   "outputs": [],
   "source": []
  },
  {
   "cell_type": "markdown",
   "id": "062e68e3-5ad8-43a6-9472-b60b269b065c",
   "metadata": {},
   "source": [
    "## Q6. Can we create a nested dictionary? If so, please give an example by creating a simple one-level nested dictionary."
   ]
  },
  {
   "cell_type": "markdown",
   "id": "4988a9a6-89fe-48d0-968e-5755850140cc",
   "metadata": {},
   "source": [
    "#### Ans.\n",
    "#### Yes, we can create a nested dictionary."
   ]
  },
  {
   "cell_type": "code",
   "execution_count": 10,
   "id": "9a35909e-d5fe-4253-82ac-1ca490f80ce1",
   "metadata": {},
   "outputs": [],
   "source": [
    "#EXAMPLE:-\n",
    "d = {\n",
    "    \"numbers\" : {'integer' : [1,2,3,4,5], 'float' : [1.0,2.0,4.0]},\n",
    "    \"string\" : 'abcs',\n",
    "    \"bool\" : True}"
   ]
  },
  {
   "cell_type": "code",
   "execution_count": 11,
   "id": "5293c3ad-ba92-4c4f-abcb-8f9ae65d4371",
   "metadata": {},
   "outputs": [
    {
     "data": {
      "text/plain": [
       "dict"
      ]
     },
     "execution_count": 11,
     "metadata": {},
     "output_type": "execute_result"
    }
   ],
   "source": [
    "type(d)"
   ]
  },
  {
   "cell_type": "code",
   "execution_count": 12,
   "id": "d8333488-8c5a-40c6-a901-acf0844800ee",
   "metadata": {},
   "outputs": [
    {
     "data": {
      "text/plain": [
       "dict"
      ]
     },
     "execution_count": 12,
     "metadata": {},
     "output_type": "execute_result"
    }
   ],
   "source": [
    "type(d[\"numbers\"])"
   ]
  },
  {
   "cell_type": "code",
   "execution_count": null,
   "id": "7d86b691-b978-47d9-a943-60804c319790",
   "metadata": {},
   "outputs": [],
   "source": []
  },
  {
   "cell_type": "markdown",
   "id": "5fea936b-cd50-49df-8f64-37b6d0f7575e",
   "metadata": {},
   "source": [
    "## Q7. Using setdefault() method, create key named topics in the given dictionary and also add the value of the key as this list ['Python', 'Machine Learning’, 'Deep Learning']\n",
    "## dict1 = {'language' : 'Python', 'course': 'Data Science Masters'}"
   ]
  },
  {
   "cell_type": "code",
   "execution_count": 13,
   "id": "3c5c1e36-aa0b-47bd-86c1-72fac5e094e9",
   "metadata": {},
   "outputs": [
    {
     "name": "stdout",
     "output_type": "stream",
     "text": [
      "{'language': 'Python', 'course': 'Data Science Masters', 'topics': ['Python', 'Machine Learning', 'Deep Learning']}\n"
     ]
    }
   ],
   "source": [
    "dict1 = {'language' : 'Python', 'course': 'Data Science Masters'}\n",
    "\n",
    "dict1.setdefault('topics', ['Python', 'Machine Learning','Deep Learning'])\n",
    "print(dict1)"
   ]
  },
  {
   "cell_type": "code",
   "execution_count": null,
   "id": "865d806c-02c3-429b-9132-35812abfc9e8",
   "metadata": {},
   "outputs": [],
   "source": []
  },
  {
   "cell_type": "markdown",
   "id": "5c385c06-397b-4a17-a166-f69ba6cdb896",
   "metadata": {},
   "source": [
    "## Q8. What are the three view objects in dictionaries? Use the three in-built methods in python to display these three view objects for the given dictionary.\n",
    "## dict1 = {'Sport': 'Cricket' , 'Teams': ['India', 'Australia', 'England', 'South Africa', 'Sri Lanka', 'New Zealand']}"
   ]
  },
  {
   "cell_type": "markdown",
   "id": "8d88ec8b-90b6-41b1-8ae0-63b58122abbc",
   "metadata": {},
   "source": [
    "#### Ans. \n",
    "#### Three view objects in dictionaries are:- keys, values and items."
   ]
  },
  {
   "cell_type": "code",
   "execution_count": 14,
   "id": "60a58405-e050-4310-91f2-360af5906474",
   "metadata": {},
   "outputs": [
    {
     "name": "stdout",
     "output_type": "stream",
     "text": [
      "dict_keys(['Sport', 'Teams'])\n"
     ]
    }
   ],
   "source": [
    "dict1 = {'Sport': 'Cricket' , 'Teams': ['India', 'Australia', 'England', 'South Africa', 'Sri Lanka', 'New Zealand']}\n",
    "\n",
    "print(dict1.keys())"
   ]
  },
  {
   "cell_type": "code",
   "execution_count": 15,
   "id": "c0fb50b3-bb8a-44db-9a9c-98523e4bac45",
   "metadata": {},
   "outputs": [
    {
     "name": "stdout",
     "output_type": "stream",
     "text": [
      "dict_values(['Cricket', ['India', 'Australia', 'England', 'South Africa', 'Sri Lanka', 'New Zealand']])\n"
     ]
    }
   ],
   "source": [
    "print(dict1.values())"
   ]
  },
  {
   "cell_type": "code",
   "execution_count": 16,
   "id": "bd573c83-5dc0-4fa5-99f6-9906295ed78b",
   "metadata": {},
   "outputs": [
    {
     "name": "stdout",
     "output_type": "stream",
     "text": [
      "dict_items([('Sport', 'Cricket'), ('Teams', ['India', 'Australia', 'England', 'South Africa', 'Sri Lanka', 'New Zealand'])])\n"
     ]
    }
   ],
   "source": [
    "print(dict1.items())"
   ]
  }
 ],
 "metadata": {
  "kernelspec": {
   "display_name": "Python 3 (ipykernel)",
   "language": "python",
   "name": "python3"
  },
  "language_info": {
   "codemirror_mode": {
    "name": "ipython",
    "version": 3
   },
   "file_extension": ".py",
   "mimetype": "text/x-python",
   "name": "python",
   "nbconvert_exporter": "python",
   "pygments_lexer": "ipython3",
   "version": "3.10.8"
  }
 },
 "nbformat": 4,
 "nbformat_minor": 5
}
